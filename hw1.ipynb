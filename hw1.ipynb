{
 "cells": [
  {
   "cell_type": "markdown",
   "metadata": {},
   "source": [
    "## Solution of Problem Set 1 - Marc Bolliger ID: 15-930-365"
   ]
  },
  {
   "cell_type": "markdown",
   "metadata": {},
   "source": [
    "### Preprocessing"
   ]
  },
  {
   "cell_type": "code",
   "execution_count": 1,
   "metadata": {},
   "outputs": [
    {
     "data": {
      "text/plain": [
       "'cases\\\\1924_X2S1O7.txt'"
      ]
     },
     "execution_count": 1,
     "metadata": {},
     "output_type": "execute_result"
    }
   ],
   "source": [
    "#Get list of documents\n",
    "\n",
    "import glob\n",
    "pathList = glob.glob(\"cases/*.txt\")\n",
    "pathList = pathList[:1000]\n",
    "pathList[0]"
   ]
  },
  {
   "cell_type": "code",
   "execution_count": 2,
   "metadata": {},
   "outputs": [],
   "source": [
    "#get list with all documents and load them into dataframe\n",
    "import pandas as pd\n",
    "def read_from_path(path):\n",
    "    with open(path, encoding=\"utf8\") as f:\n",
    "        return f.read()\n",
    "    \n",
    "#read files into list\n",
    "files = [read_from_path(p) for p in pathList]\n",
    "years = [p[6:10] for p in pathList]\n",
    "caseids = [p[11:-4] for p in pathList]\n",
    "\n",
    "df = pd.DataFrame({\"caseid\": caseids, \"text\": files, \"year\": years})"
   ]
  },
  {
   "cell_type": "markdown",
   "metadata": {},
   "source": [
    "### 1. Split the documents into sentences and tokens"
   ]
  },
  {
   "cell_type": "code",
   "execution_count": 3,
   "metadata": {},
   "outputs": [],
   "source": [
    "# load spacy english model\n",
    "import spacy\n",
    "nlp = spacy.load('en')\n",
    "# add spacy documents to dataframe\n",
    "def run_spacy(txt):\n",
    "    return nlp(txt)\n",
    "df['doc'] = df['text'].apply(run_spacy)\n",
    "\n",
    "# this will come in handy for later, so save it:\n",
    "df.to_pickle('corpus_with_doc_1000.pkl')"
   ]
  },
  {
   "cell_type": "markdown",
   "metadata": {},
   "source": [
    "Spacy processing takes alot of time, so it is faster to load from the pickle"
   ]
  },
  {
   "cell_type": "code",
   "execution_count": 4,
   "metadata": {},
   "outputs": [],
   "source": [
    "#Spacy processing takes\n",
    "df = pd.read_pickle('corpus_with_doc_1000.pkl')"
   ]
  },
  {
   "cell_type": "markdown",
   "metadata": {},
   "source": [
    "#### Compute number of sentences, words, and letters for each document."
   ]
  },
  {
   "cell_type": "code",
   "execution_count": 5,
   "metadata": {},
   "outputs": [],
   "source": [
    "def get_num_sents(doc):\n",
    "    \"return number of sentences from spacy document\"\n",
    "    return len(list(doc.sents))\n",
    "def get_num_tokens(doc):\n",
    "    \"return number of tokens from spacy document\"\n",
    "    return len(doc)\n",
    "\n",
    "df['num_sents'] = df['doc'].apply(get_num_sents)\n",
    "df['num_tokens'] = df['doc'].apply(get_num_tokens)\n",
    "df['num_chars'] = df['text'].str.len() "
   ]
  },
  {
   "cell_type": "markdown",
   "metadata": {},
   "source": [
    "#### Histogram of the number of sentences per document"
   ]
  },
  {
   "cell_type": "code",
   "execution_count": 6,
   "metadata": {},
   "outputs": [],
   "source": [
    "hist = df['num_sents'].hist(bins=20, range=[0,600])"
   ]
  },
  {
   "cell_type": "markdown",
   "metadata": {},
   "source": [
    "#### Histogram of the number of tokens per document"
   ]
  },
  {
   "cell_type": "code",
   "execution_count": 7,
   "metadata": {},
   "outputs": [
    {
     "data": {
      "image/png": "[encoded data removed]",
      "text/plain": [
       "<Figure size 432x288 with 1 Axes>"
      ]
     },
     "metadata": {
      "needs_background": "light"
     },
     "output_type": "display_data"
    }
   ],
   "source": [
    "hist = df['num_tokens'].hist(bins=20, range=[0,15000])"
   ]
  },
  {
   "cell_type": "markdown",
   "metadata": {},
   "source": [
    "#### Histogram of the number of Characters per document"
   ]
  },
  {
   "cell_type": "code",
   "execution_count": 8,
   "metadata": {},
   "outputs": [
    {
     "data": {
      "image/png": "[encoded data removed]",
      "text/plain": [
       "<Figure size 432x288 with 1 Axes>"
      ]
     },
     "metadata": {
      "needs_background": "light"
     },
     "output_type": "display_data"
    }
   ],
   "source": [
    "hist = df['num_chars'].hist(bins=20, range=[0,100000])"
   ]
  },
  {
   "cell_type": "markdown",
   "metadata": {},
   "source": [
    "### 2. Using the spaCy parts of speech"
   ]
  },
  {
   "cell_type": "code",
   "execution_count": 9,
   "metadata": {},
   "outputs": [],
   "source": [
    "#count number of nouns, verbs, and adjectives in each document.\n",
    "def get_num_nouns(doc):\n",
    "    return len(list(filter(lambda t: t.pos_ == 'NOUN' or t.pos_ == 'PROPN', doc)))\n",
    "    \n",
    "def get_num_verbs(doc):\n",
    "    return len(list(filter(lambda t: t.pos_ == 'VERB', doc)))\n",
    "\n",
    "def get_num_adjs(doc):\n",
    "    return len(list(filter(lambda t: t.pos_ == 'ADJ', doc)))\n",
    "    \n",
    "\n",
    "df['num_nouns'] = df['doc'].apply(get_num_nouns)\n",
    "df['num_verbs'] = df['doc'].apply(get_num_verbs)\n",
    "df['num_adjs'] = df['doc'].apply(get_num_adjs)"
   ]
  },
  {
   "cell_type": "code",
   "execution_count": 10,
   "metadata": {},
   "outputs": [],
   "source": [
    "#Get POS count by year.\n",
    "pos_count = pd.DataFrame()\n",
    "pos_count = df[['year', 'num_nouns', 'num_verbs', 'num_adjs']].groupby('year').sum()\n"
   ]
  },
  {
   "cell_type": "code",
   "execution_count": 11,
   "metadata": {},
   "outputs": [],
   "source": [
    "pos_freq = pd.DataFrame()"
   ]
  },
  {
   "cell_type": "code",
   "execution_count": 12,
   "metadata": {},
   "outputs": [],
   "source": [
    "#Get the frequencies of noun,verb,adjective\n",
    "import numpy as np\n",
    "def get_frequencies(nva_counts):\n",
    "    total = np.sum(nva_counts)\n",
    "    return [t/total for t in nva_counts]\n",
    "    \n",
    "\n",
    "pos_freq[['noun_freq','verb_freq','adj_freq']] = pd.DataFrame(pos_count[['num_nouns','num_verbs','num_adjs']].apply(get_frequencies, axis=1, result_type='expand'))"
   ]
  },
  {
   "cell_type": "code",
   "execution_count": 13,
   "metadata": {},
   "outputs": [
    {
     "data": {
      "image/png": "[encoded data removed]",
      "text/plain": [
       "<Figure size 432x288 with 1 Axes>"
      ]
     },
     "metadata": {
      "needs_background": "light"
     },
     "output_type": "display_data"
    }
   ],
   "source": [
    "pos_freq.plot.bar(stacked=True);"
   ]
  },
  {
   "cell_type": "markdown",
   "metadata": {},
   "source": [
    "### 3. Normalization"
   ]
  },
  {
   "cell_type": "markdown",
   "metadata": {},
   "source": [
    "We use lemmatization, remove stopwords and punctuation and numbers in order to reduce the amount of tokens and to remove tokens with little information"
   ]
  },
  {
   "cell_type": "code",
   "execution_count": 14,
   "metadata": {},
   "outputs": [
    {
     "data": {
      "text/plain": [
       "0    [(rose, PROPN), (circuit, PROPN), (judge, PROP...\n",
       "1    [(kennedy, PROPN), (district, PROPN), (judge, ...\n",
       "2    [(johnson, PROPN), (district, PROPN), (judge, ...\n",
       "3    [(johnson, PROPN), (circuit, PROPN), (judge, P...\n",
       "4    [(rogers, PROPN), (circuit, PROPN), (judge, PR...\n",
       "Name: tokens_cleaned, dtype: object"
      ]
     },
     "execution_count": 14,
     "metadata": {},
     "output_type": "execute_result"
    }
   ],
   "source": [
    "from string import punctuation\n",
    "from nltk.corpus import stopwords\n",
    "stoplist = set(stopwords.words('english'))\n",
    "#from nltk.stem import SnowballStemmer\n",
    "#stemmer = SnowballStemmer('english')\n",
    "\n",
    "def normalize_text(doc):\n",
    "    \"Input spacy doc and return clean list of tokens\"\n",
    "    tokens = []\n",
    "    #use lemmatization from spacy\n",
    "    tokens = [(w.lemma_ , w.pos_) for w in doc if w.lemma_ not in [' ', '\\r', '\\n']+ list(punctuation)] #remove unnecessary chars\n",
    "    #remove stopwords\n",
    "    tokens = [w for w in tokens if w not in stoplist]\n",
    "    #normalize numbers\n",
    "    tokens = [w if w[1] != 'NUM' else ('#', w[1]) for w in tokens]\n",
    "    #remove words with X pos tag\n",
    "    tokens = [w for w in tokens if w[1] not in ['NUM', 'PUNCT']]\n",
    "    \n",
    "    return tokens\n",
    "        \n",
    "df['tokens_cleaned'] = df['doc'].apply(normalize_text)\n",
    "df['tokens_cleaned'].head()"
   ]
  },
  {
   "cell_type": "code",
   "execution_count": 15,
   "metadata": {},
   "outputs": [
    {
     "data": {
      "text/plain": [
       "0    [rose_circuit_judge, be_another_sugar, another...\n",
       "1    [kennedy_district_judge, be_a_suit, suit_in_eq...\n",
       "2    [johnson_district_judge, district_judge_appell...\n",
       "3    [johnson_circuit_judge, be_a_patent, a_patent_...\n",
       "4    [rogers_circuit_judge, judge_the_complainant, ...\n",
       "Name: grams, dtype: object"
      ]
     },
     "execution_count": 15,
     "metadata": {},
     "output_type": "execute_result"
    }
   ],
   "source": [
    "# make a feature set of all trigrams that end in a noun.\n",
    "from nltk import ngrams\n",
    "def make_pos_trigrams(tokens):\n",
    "    grams = ['_'.join([t[0] for t in g]) for g in ngrams(tokens,3) if g[2][1] in ['NOUN', 'PROPN']]\n",
    "    return grams\n",
    "\n",
    "df['grams'] = df['tokens_cleaned'].apply(make_pos_trigrams)\n",
    "df['grams'].head()"
   ]
  },
  {
   "cell_type": "markdown",
   "metadata": {},
   "source": [
    "### 4. Make dataframe"
   ]
  },
  {
   "cell_type": "code",
   "execution_count": 16,
   "metadata": {},
   "outputs": [
    {
     "data": {
      "text/plain": [
       "[('the_united_states', 2658),\n",
       " ('s._ct_l.', 2350),\n",
       " ('ct_l._ed', 2350),\n",
       " ('u._s._s.', 2322),\n",
       " ('s._s._ct', 2319),\n",
       " ('u.s._s.ct_l.ed', 1977),\n",
       " ('c._c._a.', 1630),\n",
       " ('the_supreme_court', 1362),\n",
       " ('of_the_united', 1274),\n",
       " ('of_the_act', 1124)]"
      ]
     },
     "execution_count": 16,
     "metadata": {},
     "output_type": "execute_result"
    }
   ],
   "source": [
    "#while remaining sparsity? standardize to variance one?\n",
    "\n",
    "from collections import Counter\n",
    "term_frequencies = Counter()\n",
    "\n",
    "for grams in df['grams']:\n",
    "    term_frequencies.update(grams)\n",
    "\n",
    "term_frequencies.most_common()[:10]"
   ]
  },
  {
   "cell_type": "markdown",
   "metadata": {},
   "source": [
    "Dataset with 1000 features"
   ]
  },
  {
   "cell_type": "code",
   "execution_count": 17,
   "metadata": {},
   "outputs": [
    {
     "data": {
      "text/html": [
       "<div>\n",
       "<style scoped>\n",
       "    .dataframe tbody tr th:only-of-type {\n",
       "        vertical-align: middle;\n",
       "    }\n",
       "\n",
       "    .dataframe tbody tr th {\n",
       "        vertical-align: top;\n",
       "    }\n",
       "\n",
       "    .dataframe thead th {\n",
       "        text-align: right;\n",
       "    }\n",
       "</style>\n",
       "<table border=\"1\" class=\"dataframe\">\n",
       "  <thead>\n",
       "    <tr style=\"text-align: right;\">\n",
       "      <th></th>\n",
       "      <th>-PRON-_income_tax</th>\n",
       "      <th>a._l._r.</th>\n",
       "      <th>a._n._s.</th>\n",
       "      <th>a_common_carrier</th>\n",
       "      <th>a_direct_verdict</th>\n",
       "      <th>a_federal_court</th>\n",
       "      <th>a_labor_organization</th>\n",
       "      <th>a_national_bank</th>\n",
       "      <th>a_new_trial</th>\n",
       "      <th>a_reasonable_allowance</th>\n",
       "      <th>...</th>\n",
       "      <th>within_the_meaning</th>\n",
       "      <th>within_the_provision</th>\n",
       "      <th>within_the_scope</th>\n",
       "      <th>within_the_state</th>\n",
       "      <th>within_the_term</th>\n",
       "      <th>within_the_time</th>\n",
       "      <th>workmen_'s_compensation</th>\n",
       "      <th>writ_of_error</th>\n",
       "      <th>y._n._e.</th>\n",
       "      <th>year_in_question</th>\n",
       "    </tr>\n",
       "  </thead>\n",
       "  <tbody>\n",
       "    <tr>\n",
       "      <th>0</th>\n",
       "      <td>0.0</td>\n",
       "      <td>1.0</td>\n",
       "      <td>0.0</td>\n",
       "      <td>0.0</td>\n",
       "      <td>1.0</td>\n",
       "      <td>0.0</td>\n",
       "      <td>0.0</td>\n",
       "      <td>0.0</td>\n",
       "      <td>1.0</td>\n",
       "      <td>0.0</td>\n",
       "      <td>...</td>\n",
       "      <td>0.0</td>\n",
       "      <td>0.0</td>\n",
       "      <td>0.0</td>\n",
       "      <td>0.0</td>\n",
       "      <td>0.0</td>\n",
       "      <td>2.0</td>\n",
       "      <td>0.0</td>\n",
       "      <td>0.0</td>\n",
       "      <td>0.0</td>\n",
       "      <td>0.0</td>\n",
       "    </tr>\n",
       "    <tr>\n",
       "      <th>1</th>\n",
       "      <td>0.0</td>\n",
       "      <td>0.0</td>\n",
       "      <td>0.0</td>\n",
       "      <td>0.0</td>\n",
       "      <td>0.0</td>\n",
       "      <td>0.0</td>\n",
       "      <td>0.0</td>\n",
       "      <td>0.0</td>\n",
       "      <td>0.0</td>\n",
       "      <td>0.0</td>\n",
       "      <td>...</td>\n",
       "      <td>0.0</td>\n",
       "      <td>0.0</td>\n",
       "      <td>0.0</td>\n",
       "      <td>0.0</td>\n",
       "      <td>0.0</td>\n",
       "      <td>1.0</td>\n",
       "      <td>0.0</td>\n",
       "      <td>0.0</td>\n",
       "      <td>0.0</td>\n",
       "      <td>0.0</td>\n",
       "    </tr>\n",
       "    <tr>\n",
       "      <th>2</th>\n",
       "      <td>0.0</td>\n",
       "      <td>0.0</td>\n",
       "      <td>0.0</td>\n",
       "      <td>0.0</td>\n",
       "      <td>0.0</td>\n",
       "      <td>1.0</td>\n",
       "      <td>0.0</td>\n",
       "      <td>0.0</td>\n",
       "      <td>0.0</td>\n",
       "      <td>0.0</td>\n",
       "      <td>...</td>\n",
       "      <td>0.0</td>\n",
       "      <td>0.0</td>\n",
       "      <td>0.0</td>\n",
       "      <td>0.0</td>\n",
       "      <td>0.0</td>\n",
       "      <td>0.0</td>\n",
       "      <td>0.0</td>\n",
       "      <td>0.0</td>\n",
       "      <td>0.0</td>\n",
       "      <td>0.0</td>\n",
       "    </tr>\n",
       "    <tr>\n",
       "      <th>3</th>\n",
       "      <td>0.0</td>\n",
       "      <td>0.0</td>\n",
       "      <td>0.0</td>\n",
       "      <td>0.0</td>\n",
       "      <td>0.0</td>\n",
       "      <td>0.0</td>\n",
       "      <td>0.0</td>\n",
       "      <td>0.0</td>\n",
       "      <td>0.0</td>\n",
       "      <td>0.0</td>\n",
       "      <td>...</td>\n",
       "      <td>0.0</td>\n",
       "      <td>0.0</td>\n",
       "      <td>0.0</td>\n",
       "      <td>0.0</td>\n",
       "      <td>0.0</td>\n",
       "      <td>0.0</td>\n",
       "      <td>0.0</td>\n",
       "      <td>0.0</td>\n",
       "      <td>0.0</td>\n",
       "      <td>0.0</td>\n",
       "    </tr>\n",
       "    <tr>\n",
       "      <th>4</th>\n",
       "      <td>0.0</td>\n",
       "      <td>3.0</td>\n",
       "      <td>1.0</td>\n",
       "      <td>0.0</td>\n",
       "      <td>0.0</td>\n",
       "      <td>0.0</td>\n",
       "      <td>0.0</td>\n",
       "      <td>0.0</td>\n",
       "      <td>0.0</td>\n",
       "      <td>0.0</td>\n",
       "      <td>...</td>\n",
       "      <td>0.0</td>\n",
       "      <td>0.0</td>\n",
       "      <td>0.0</td>\n",
       "      <td>0.0</td>\n",
       "      <td>0.0</td>\n",
       "      <td>0.0</td>\n",
       "      <td>0.0</td>\n",
       "      <td>0.0</td>\n",
       "      <td>0.0</td>\n",
       "      <td>0.0</td>\n",
       "    </tr>\n",
       "  </tbody>\n",
       "</table>\n",
       "<p>5 rows × 1000 columns</p>\n",
       "</div>"
      ],
      "text/plain": [
       "   -PRON-_income_tax  a._l._r.  a._n._s.  a_common_carrier  a_direct_verdict  \\\n",
       "0                0.0       1.0       0.0               0.0               1.0   \n",
       "1                0.0       0.0       0.0               0.0               0.0   \n",
       "2                0.0       0.0       0.0               0.0               0.0   \n",
       "3                0.0       0.0       0.0               0.0               0.0   \n",
       "4                0.0       3.0       1.0               0.0               0.0   \n",
       "\n",
       "   a_federal_court  a_labor_organization  a_national_bank  a_new_trial  \\\n",
       "0              0.0                   0.0              0.0          1.0   \n",
       "1              0.0                   0.0              0.0          0.0   \n",
       "2              1.0                   0.0              0.0          0.0   \n",
       "3              0.0                   0.0              0.0          0.0   \n",
       "4              0.0                   0.0              0.0          0.0   \n",
       "\n",
       "   a_reasonable_allowance        ...         within_the_meaning  \\\n",
       "0                     0.0        ...                        0.0   \n",
       "1                     0.0        ...                        0.0   \n",
       "2                     0.0        ...                        0.0   \n",
       "3                     0.0        ...                        0.0   \n",
       "4                     0.0        ...                        0.0   \n",
       "\n",
       "   within_the_provision  within_the_scope  within_the_state  within_the_term  \\\n",
       "0                   0.0               0.0               0.0              0.0   \n",
       "1                   0.0               0.0               0.0              0.0   \n",
       "2                   0.0               0.0               0.0              0.0   \n",
       "3                   0.0               0.0               0.0              0.0   \n",
       "4                   0.0               0.0               0.0              0.0   \n",
       "\n",
       "   within_the_time  workmen_'s_compensation  writ_of_error  y._n._e.  \\\n",
       "0              2.0                      0.0            0.0       0.0   \n",
       "1              1.0                      0.0            0.0       0.0   \n",
       "2              0.0                      0.0            0.0       0.0   \n",
       "3              0.0                      0.0            0.0       0.0   \n",
       "4              0.0                      0.0            0.0       0.0   \n",
       "\n",
       "   year_in_question  \n",
       "0               0.0  \n",
       "1               0.0  \n",
       "2               0.0  \n",
       "3               0.0  \n",
       "4               0.0  \n",
       "\n",
       "[5 rows x 1000 columns]"
      ]
     },
     "execution_count": 17,
     "metadata": {},
     "output_type": "execute_result"
    }
   ],
   "source": [
    "features = [t[0] for t in term_frequencies.most_common()[:1000]]\n",
    "\n",
    "df['grams_reduced'] = df['grams'].apply( lambda x: [g for g in x if g in features])\n",
    "\n",
    "\n",
    "cleaned_freqs = []\n",
    "for tokens in df['grams_reduced']:\n",
    "    cleaned_freqs.append(Counter(tokens)) # make a counter for each row\n",
    "    \n",
    "feat_df = pd.DataFrame(cleaned_freqs).fillna(0).to_sparse(fill_value=0)\n",
    "\n",
    "feat_df.head()"
   ]
  },
  {
   "cell_type": "markdown",
   "metadata": {},
   "source": [
    "Standardize to variance one while maintaining sparsity"
   ]
  },
  {
   "cell_type": "code",
   "execution_count": 18,
   "metadata": {},
   "outputs": [
    {
     "data": {
      "text/plain": [
       "<1000x1000 sparse matrix of type '<class 'numpy.float64'>'\n",
       "\twith 57420 stored elements in Compressed Sparse Row format>"
      ]
     },
     "execution_count": 18,
     "metadata": {},
     "output_type": "execute_result"
    }
   ],
   "source": [
    "from sklearn.preprocessing import StandardScaler\n",
    "from scipy.sparse import csr_matrix\n",
    "\n",
    "#passing with_mean=False to avoid breaking the sparsity structure of the data.\n",
    "scaler = StandardScaler(with_mean=False)\n",
    "#standardize it\n",
    "csr_standard = scaler.fit_transform(csr_matrix(feat_df.values))\n",
    "csr_standard"
   ]
  },
  {
   "cell_type": "code",
   "execution_count": 19,
   "metadata": {},
   "outputs": [
    {
     "data": {
      "text/html": [
       "<div>\n",
       "<style scoped>\n",
       "    .dataframe tbody tr th:only-of-type {\n",
       "        vertical-align: middle;\n",
       "    }\n",
       "\n",
       "    .dataframe tbody tr th {\n",
       "        vertical-align: top;\n",
       "    }\n",
       "\n",
       "    .dataframe thead th {\n",
       "        text-align: right;\n",
       "    }\n",
       "</style>\n",
       "<table border=\"1\" class=\"dataframe\">\n",
       "  <thead>\n",
       "    <tr style=\"text-align: right;\">\n",
       "      <th></th>\n",
       "      <th>-PRON-_income_tax</th>\n",
       "      <th>a._l._r.</th>\n",
       "      <th>a._n._s.</th>\n",
       "      <th>a_common_carrier</th>\n",
       "      <th>a_direct_verdict</th>\n",
       "      <th>a_federal_court</th>\n",
       "      <th>a_labor_organization</th>\n",
       "      <th>a_national_bank</th>\n",
       "      <th>a_new_trial</th>\n",
       "      <th>a_reasonable_allowance</th>\n",
       "      <th>...</th>\n",
       "      <th>within_the_meaning</th>\n",
       "      <th>within_the_provision</th>\n",
       "      <th>within_the_scope</th>\n",
       "      <th>within_the_state</th>\n",
       "      <th>within_the_term</th>\n",
       "      <th>within_the_time</th>\n",
       "      <th>workmen_'s_compensation</th>\n",
       "      <th>writ_of_error</th>\n",
       "      <th>y._n._e.</th>\n",
       "      <th>year_in_question</th>\n",
       "    </tr>\n",
       "  </thead>\n",
       "  <tbody>\n",
       "    <tr>\n",
       "      <th>0</th>\n",
       "      <td>0.0</td>\n",
       "      <td>0.992412</td>\n",
       "      <td>0.000000</td>\n",
       "      <td>0.0</td>\n",
       "      <td>1.878058</td>\n",
       "      <td>0.000000</td>\n",
       "      <td>0.0</td>\n",
       "      <td>0.0</td>\n",
       "      <td>1.168627</td>\n",
       "      <td>0.0</td>\n",
       "      <td>...</td>\n",
       "      <td>0.0</td>\n",
       "      <td>0.0</td>\n",
       "      <td>0.0</td>\n",
       "      <td>0.0</td>\n",
       "      <td>0.0</td>\n",
       "      <td>4.021159</td>\n",
       "      <td>0.0</td>\n",
       "      <td>0.0</td>\n",
       "      <td>0.0</td>\n",
       "      <td>0.0</td>\n",
       "    </tr>\n",
       "    <tr>\n",
       "      <th>1</th>\n",
       "      <td>0.0</td>\n",
       "      <td>0.000000</td>\n",
       "      <td>0.000000</td>\n",
       "      <td>0.0</td>\n",
       "      <td>0.000000</td>\n",
       "      <td>0.000000</td>\n",
       "      <td>0.0</td>\n",
       "      <td>0.0</td>\n",
       "      <td>0.000000</td>\n",
       "      <td>0.0</td>\n",
       "      <td>...</td>\n",
       "      <td>0.0</td>\n",
       "      <td>0.0</td>\n",
       "      <td>0.0</td>\n",
       "      <td>0.0</td>\n",
       "      <td>0.0</td>\n",
       "      <td>2.010579</td>\n",
       "      <td>0.0</td>\n",
       "      <td>0.0</td>\n",
       "      <td>0.0</td>\n",
       "      <td>0.0</td>\n",
       "    </tr>\n",
       "    <tr>\n",
       "      <th>2</th>\n",
       "      <td>0.0</td>\n",
       "      <td>0.000000</td>\n",
       "      <td>0.000000</td>\n",
       "      <td>0.0</td>\n",
       "      <td>0.000000</td>\n",
       "      <td>1.410384</td>\n",
       "      <td>0.0</td>\n",
       "      <td>0.0</td>\n",
       "      <td>0.000000</td>\n",
       "      <td>0.0</td>\n",
       "      <td>...</td>\n",
       "      <td>0.0</td>\n",
       "      <td>0.0</td>\n",
       "      <td>0.0</td>\n",
       "      <td>0.0</td>\n",
       "      <td>0.0</td>\n",
       "      <td>0.000000</td>\n",
       "      <td>0.0</td>\n",
       "      <td>0.0</td>\n",
       "      <td>0.0</td>\n",
       "      <td>0.0</td>\n",
       "    </tr>\n",
       "    <tr>\n",
       "      <th>3</th>\n",
       "      <td>0.0</td>\n",
       "      <td>0.000000</td>\n",
       "      <td>0.000000</td>\n",
       "      <td>0.0</td>\n",
       "      <td>0.000000</td>\n",
       "      <td>0.000000</td>\n",
       "      <td>0.0</td>\n",
       "      <td>0.0</td>\n",
       "      <td>0.000000</td>\n",
       "      <td>0.0</td>\n",
       "      <td>...</td>\n",
       "      <td>0.0</td>\n",
       "      <td>0.0</td>\n",
       "      <td>0.0</td>\n",
       "      <td>0.0</td>\n",
       "      <td>0.0</td>\n",
       "      <td>0.000000</td>\n",
       "      <td>0.0</td>\n",
       "      <td>0.0</td>\n",
       "      <td>0.0</td>\n",
       "      <td>0.0</td>\n",
       "    </tr>\n",
       "    <tr>\n",
       "      <th>4</th>\n",
       "      <td>0.0</td>\n",
       "      <td>2.977235</td>\n",
       "      <td>1.771135</td>\n",
       "      <td>0.0</td>\n",
       "      <td>0.000000</td>\n",
       "      <td>0.000000</td>\n",
       "      <td>0.0</td>\n",
       "      <td>0.0</td>\n",
       "      <td>0.000000</td>\n",
       "      <td>0.0</td>\n",
       "      <td>...</td>\n",
       "      <td>0.0</td>\n",
       "      <td>0.0</td>\n",
       "      <td>0.0</td>\n",
       "      <td>0.0</td>\n",
       "      <td>0.0</td>\n",
       "      <td>0.000000</td>\n",
       "      <td>0.0</td>\n",
       "      <td>0.0</td>\n",
       "      <td>0.0</td>\n",
       "      <td>0.0</td>\n",
       "    </tr>\n",
       "  </tbody>\n",
       "</table>\n",
       "<p>5 rows × 1000 columns</p>\n",
       "</div>"
      ],
      "text/plain": [
       "   -PRON-_income_tax  a._l._r.  a._n._s.  a_common_carrier  a_direct_verdict  \\\n",
       "0                0.0  0.992412  0.000000               0.0          1.878058   \n",
       "1                0.0  0.000000  0.000000               0.0          0.000000   \n",
       "2                0.0  0.000000  0.000000               0.0          0.000000   \n",
       "3                0.0  0.000000  0.000000               0.0          0.000000   \n",
       "4                0.0  2.977235  1.771135               0.0          0.000000   \n",
       "\n",
       "   a_federal_court  a_labor_organization  a_national_bank  a_new_trial  \\\n",
       "0         0.000000                   0.0              0.0     1.168627   \n",
       "1         0.000000                   0.0              0.0     0.000000   \n",
       "2         1.410384                   0.0              0.0     0.000000   \n",
       "3         0.000000                   0.0              0.0     0.000000   \n",
       "4         0.000000                   0.0              0.0     0.000000   \n",
       "\n",
       "   a_reasonable_allowance        ...         within_the_meaning  \\\n",
       "0                     0.0        ...                        0.0   \n",
       "1                     0.0        ...                        0.0   \n",
       "2                     0.0        ...                        0.0   \n",
       "3                     0.0        ...                        0.0   \n",
       "4                     0.0        ...                        0.0   \n",
       "\n",
       "   within_the_provision  within_the_scope  within_the_state  within_the_term  \\\n",
       "0                   0.0               0.0               0.0              0.0   \n",
       "1                   0.0               0.0               0.0              0.0   \n",
       "2                   0.0               0.0               0.0              0.0   \n",
       "3                   0.0               0.0               0.0              0.0   \n",
       "4                   0.0               0.0               0.0              0.0   \n",
       "\n",
       "   within_the_time  workmen_'s_compensation  writ_of_error  y._n._e.  \\\n",
       "0         4.021159                      0.0            0.0       0.0   \n",
       "1         2.010579                      0.0            0.0       0.0   \n",
       "2         0.000000                      0.0            0.0       0.0   \n",
       "3         0.000000                      0.0            0.0       0.0   \n",
       "4         0.000000                      0.0            0.0       0.0   \n",
       "\n",
       "   year_in_question  \n",
       "0               0.0  \n",
       "1               0.0  \n",
       "2               0.0  \n",
       "3               0.0  \n",
       "4               0.0  \n",
       "\n",
       "[5 rows x 1000 columns]"
      ]
     },
     "execution_count": 19,
     "metadata": {},
     "output_type": "execute_result"
    }
   ],
   "source": [
    "#Back to sparse dataframe\n",
    "features.sort()\n",
    "std_feat_df = pd.SparseDataFrame(csr_standard, columns=features).fillna(0).to_sparse(fill_value=0)\n",
    "std_feat_df.head()"
   ]
  },
  {
   "cell_type": "code",
   "execution_count": 20,
   "metadata": {},
   "outputs": [
    {
     "data": {
      "text/plain": [
       "0.05742"
      ]
     },
     "execution_count": 20,
     "metadata": {},
     "output_type": "execute_result"
    }
   ],
   "source": [
    "std_feat_df.density"
   ]
  },
  {
   "cell_type": "markdown",
   "metadata": {},
   "source": [
    "### 5. Logistic Regression"
   ]
  },
  {
   "cell_type": "code",
   "execution_count": 21,
   "metadata": {},
   "outputs": [],
   "source": [
    "#load the csv and merge it on caseid with our sampled cases\n",
    "csv = pd.read_csv('case_reversed.csv')\n",
    "case_rev = df.merge(csv, on='caseid')['case_reversed']"
   ]
  },
  {
   "cell_type": "markdown",
   "metadata": {},
   "source": [
    "Split into train and test dataset"
   ]
  },
  {
   "cell_type": "code",
   "execution_count": 22,
   "metadata": {},
   "outputs": [],
   "source": [
    "#std_feat_df['y'].head()\n",
    "\n",
    "from sklearn.linear_model import LogisticRegression\n",
    "from sklearn.model_selection import train_test_split\n",
    "\n",
    "#Split the dataset,\n",
    "X_train, X_test, y_train, y_test = train_test_split(std_feat_df, case_rev, test_size=0.2, random_state=42)\n",
    "#pd.read_csv('case_reversed.csv')"
   ]
  },
  {
   "cell_type": "markdown",
   "metadata": {},
   "source": [
    "Train a logistic regression model"
   ]
  },
  {
   "cell_type": "code",
   "execution_count": 23,
   "metadata": {},
   "outputs": [
    {
     "data": {
      "text/plain": [
       "LogisticRegression(C=1.0, class_weight=None, dual=False, fit_intercept=True,\n",
       "          intercept_scaling=1, max_iter=100, multi_class='warn',\n",
       "          n_jobs=None, penalty='l2', random_state=None, solver='liblinear',\n",
       "          tol=0.0001, verbose=0, warm_start=False)"
      ]
     },
     "execution_count": 23,
     "metadata": {},
     "output_type": "execute_result"
    }
   ],
   "source": [
    "log_reg = LogisticRegression(solver='liblinear')\n",
    "log_reg.fit(X_train, y_train)"
   ]
  },
  {
   "cell_type": "markdown",
   "metadata": {},
   "source": [
    "Compute accuracy and F1 for the prediction in the training set and in the test set."
   ]
  },
  {
   "cell_type": "code",
   "execution_count": 24,
   "metadata": {},
   "outputs": [
    {
     "name": "stdout",
     "output_type": "stream",
     "text": [
      "Accuracy on the train subset: 0.984\n",
      "Accuracy on the test subset: 0.515\n"
     ]
    }
   ],
   "source": [
    "print('Accuracy on the train subset: {:.3f}'.format(log_reg.score(X_train,y_train)))\n",
    "print('Accuracy on the test subset: {:.3f}'.format(log_reg.score(X_test,y_test)))"
   ]
  },
  {
   "cell_type": "code",
   "execution_count": 25,
   "metadata": {},
   "outputs": [
    {
     "name": "stdout",
     "output_type": "stream",
     "text": [
      "F1-score on the train subset: 0.985\n",
      "F1-score on the test subset: 0.446\n"
     ]
    }
   ],
   "source": [
    "from sklearn.metrics import f1_score\n",
    "print('F1-score on the train subset: {:.3f}'.format(f1_score(y_train,log_reg.predict(X_train))))\n",
    "print('F1-score on the test subset: {:.3f}'.format(f1_score(y_test,log_reg.predict(X_test))))"
   ]
  },
  {
   "cell_type": "markdown",
   "metadata": {},
   "source": [
    "Our current model seems to be overfitting!"
   ]
  },
  {
   "cell_type": "markdown",
   "metadata": {},
   "source": [
    "### 6. Use GridSearchCV() to choose hyperparameters"
   ]
  },
  {
   "cell_type": "markdown",
   "metadata": {},
   "source": [
    "L1 vs L2 penalty, and regularization parameter C"
   ]
  },
  {
   "cell_type": "code",
   "execution_count": 26,
   "metadata": {},
   "outputs": [],
   "source": [
    "from sklearn.model_selection import GridSearchCV\n",
    "param_grid = {'penalty':['l1','l2'],'C':[0.0001,.001,.01,.1,1,10]}\n",
    "grid = GridSearchCV(log_reg, param_grid, n_jobs=-1, cv=3)\n"
   ]
  },
  {
   "cell_type": "code",
   "execution_count": 27,
   "metadata": {},
   "outputs": [
    {
     "data": {
      "text/plain": [
       "GridSearchCV(cv=3, error_score='raise-deprecating',\n",
       "       estimator=LogisticRegression(C=1.0, class_weight=None, dual=False, fit_intercept=True,\n",
       "          intercept_scaling=1, max_iter=100, multi_class='warn',\n",
       "          n_jobs=None, penalty='l2', random_state=None, solver='liblinear',\n",
       "          tol=0.0001, verbose=0, warm_start=False),\n",
       "       fit_params=None, iid='warn', n_jobs=-1,\n",
       "       param_grid={'penalty': ['l1', 'l2'], 'C': [0.0001, 0.001, 0.01, 0.1, 1, 10]},\n",
       "       pre_dispatch='2*n_jobs', refit=True, return_train_score='warn',\n",
       "       scoring=None, verbose=0)"
      ]
     },
     "execution_count": 27,
     "metadata": {},
     "output_type": "execute_result"
    }
   ],
   "source": [
    "grid.fit(X_train, y_train)"
   ]
  },
  {
   "cell_type": "markdown",
   "metadata": {},
   "source": [
    "Best model parameters:"
   ]
  },
  {
   "cell_type": "code",
   "execution_count": 28,
   "metadata": {},
   "outputs": [
    {
     "data": {
      "text/plain": [
       "{'C': 0.001, 'penalty': 'l2'}"
      ]
     },
     "execution_count": 28,
     "metadata": {},
     "output_type": "execute_result"
    }
   ],
   "source": [
    "grid.best_params_"
   ]
  },
  {
   "cell_type": "markdown",
   "metadata": {},
   "source": [
    "Score:"
   ]
  },
  {
   "cell_type": "code",
   "execution_count": 29,
   "metadata": {},
   "outputs": [
    {
     "data": {
      "text/plain": [
       "0.5775"
      ]
     },
     "execution_count": 29,
     "metadata": {},
     "output_type": "execute_result"
    }
   ],
   "source": [
    "grid.best_score_"
   ]
  },
  {
   "cell_type": "markdown",
   "metadata": {},
   "source": [
    "Report the ROC Curve and AUC."
   ]
  },
  {
   "cell_type": "code",
   "execution_count": 30,
   "metadata": {},
   "outputs": [
    {
     "data": {
      "image/png": "[encoded data removed]",
      "text/plain": [
       "<Figure size 432x288 with 1 Axes>"
      ]
     },
     "metadata": {
      "needs_background": "light"
     },
     "output_type": "display_data"
    },
    {
     "name": "stdout",
     "output_type": "stream",
     "text": [
      "AUC: 0.578\n"
     ]
    }
   ],
   "source": [
    "from sklearn.metrics import roc_curve, auc\n",
    "from sklearn.model_selection import cross_val_predict\n",
    "import matplotlib.pyplot as plt\n",
    "\n",
    "probas_ = grid.predict_proba(X_test)[:,1]\n",
    "fpr, tpr, thresholds = roc_curve(y_test, probas_)\n",
    "\n",
    "plt.plot(fpr, tpr)\n",
    "plt.plot([0,1],[0,1],'k--')\n",
    "plt.xlabel('False Positive Rate')\n",
    "plt.ylabel('True Positive Rate')\n",
    "roc_auc = auc(fpr, tpr)\n",
    "plt.show()\n",
    "\n",
    "print('AUC: {:.3f}'.format(roc_auc))"
   ]
  },
  {
   "cell_type": "markdown",
   "metadata": {},
   "source": [
    "### 7. Sentence sentiment"
   ]
  },
  {
   "cell_type": "markdown",
   "metadata": {},
   "source": [
    "Each sentence (of each case) is treated as a separate document."
   ]
  },
  {
   "cell_type": "code",
   "execution_count": 31,
   "metadata": {},
   "outputs": [],
   "source": [
    "#Get dataframe with each sentence as a row\n",
    "sents_per_doc=df['doc'].apply(lambda x: list(x.sents))\n",
    "sents = pd.Series(sents_per_doc.agg(sum))\n",
    "\n",
    "sents_df = pd.DataFrame(sents, columns=['sent'])\n",
    "sents_df['sent_text'] = sents_df['sent'].apply(lambda x: x.text)"
   ]
  },
  {
   "cell_type": "markdown",
   "metadata": {},
   "source": [
    "Use vader to compute sentiments for each sentence"
   ]
  },
  {
   "cell_type": "code",
   "execution_count": 32,
   "metadata": {},
   "outputs": [],
   "source": [
    "from nltk.sentiment.vader import SentimentIntensityAnalyzer\n",
    "\n",
    "sid = SentimentIntensityAnalyzer()\n",
    "\n",
    "def compute_sent_score(sent):\n",
    "    return sid.polarity_scores(sent)['compound']\n",
    "\n",
    "sents_df['score'] = sents_df['sent_text'].apply(compute_sent_score)"
   ]
  },
  {
   "cell_type": "markdown",
   "metadata": {},
   "source": [
    "Top 10 highest sentiment sentences:"
   ]
  },
  {
   "cell_type": "code",
   "execution_count": 33,
   "metadata": {},
   "outputs": [
    {
     "data": {
      "text/html": [
       "<div>\n",
       "<style scoped>\n",
       "    .dataframe tbody tr th:only-of-type {\n",
       "        vertical-align: middle;\n",
       "    }\n",
       "\n",
       "    .dataframe tbody tr th {\n",
       "        vertical-align: top;\n",
       "    }\n",
       "\n",
       "    .dataframe thead th {\n",
       "        text-align: right;\n",
       "    }\n",
       "</style>\n",
       "<table border=\"1\" class=\"dataframe\">\n",
       "  <thead>\n",
       "    <tr style=\"text-align: right;\">\n",
       "      <th></th>\n",
       "      <th>sent_text</th>\n",
       "      <th>score</th>\n",
       "    </tr>\n",
       "  </thead>\n",
       "  <tbody>\n",
       "    <tr>\n",
       "      <th>78922</th>\n",
       "      <td>The indictment in substance charged that the defendants and divers other persons to the grand jurors unknown, conspired to defraud the United States of and concerning its governmental function to be honestly, faithfully and dutifully represented in the Courts of the United States by an Assistant United States Attor...</td>\n",
       "      <td>0.9941</td>\n",
       "    </tr>\n",
       "    <tr>\n",
       "      <th>85707</th>\n",
       "      <td>As subsidiary findings, the Board further found that resulting from an election held in July, 1934, the Petroleum Labor Policy Board certified the union as the collective bargaining agency; that soon thereafter a committee representing the union presented a proposed agreement to J. C. Thomas, superintendent of prod...</td>\n",
       "      <td>0.9930</td>\n",
       "    </tr>\n",
       "    <tr>\n",
       "      <th>85767</th>\n",
       "      <td>As subsidiary findings, the Board found that following an election held in July, 1934, the Petroleum Labor Policy Board certified the union as the collective bargaining agency of the employees at the refinery; that shortly after such certification a representative of the union called upon Carl R. Tillman, superinte...</td>\n",
       "      <td>0.9929</td>\n",
       "    </tr>\n",
       "    <tr>\n",
       "      <th>70597</th>\n",
       "      <td>To exercise, or to appoint proxies to exercise, any and all voting powers under any certificates or shares of stock in the trust estate; (b) to retain, or to sell, exchange, mortgage, or pledge any certificates, shares of stock, securities or other items of property or any fractional interest in any of the same now...</td>\n",
       "      <td>0.9928</td>\n",
       "    </tr>\n",
       "    <tr>\n",
       "      <th>25925</th>\n",
       "      <td>It appears that the partnership, Russell &amp; Co., Sucesores, S. en C., is composed of Horace Havemeyer, Frank A. Dillingham, Edward S. Paine, Edwin L. Arnold, Frank M. Welty, and H. B. Orde; that they are owners through purchase from Fortuna Estates of four tracts of land known as Haciendas Fortuna, Cristina, Luciana...</td>\n",
       "      <td>0.9920</td>\n",
       "    </tr>\n",
       "    <tr>\n",
       "      <th>11921</th>\n",
       "      <td>It also charged conversion by the Trust Company of property of the Belt Company; also that the Trust Company occupied a fiduciary relation to the Belt Company, and by reason thereof had no right to charge any sums as profits; that the Trust Company in pursuance of a fraudulent plan sold worthless securities to the ...</td>\n",
       "      <td>0.9905</td>\n",
       "    </tr>\n",
       "    <tr>\n",
       "      <th>3916</th>\n",
       "      <td>The main grounds for recovery thereof, as stated in the petition, are: \"That the assessment and collection of said additional income tax was erroneous and illegal in that it is based upon alleged income accruing to the plaintiff from the liquidating dividend upon the dissolution of the Osage Mercantile Company, a c...</td>\n",
       "      <td>0.9903</td>\n",
       "    </tr>\n",
       "    <tr>\n",
       "      <th>2392</th>\n",
       "      <td>In Moore v. Crawford , supra , the Chief Justice, speaking for the court, said: \"Whenever the legal title to property is obtained through means or under circumstances 'which render it unconscientious for the holder of the legal title to retain and enjoy the beneficial interest, equity impresses a constructive trust...</td>\n",
       "      <td>0.9889</td>\n",
       "    </tr>\n",
       "    <tr>\n",
       "      <th>47283</th>\n",
       "      <td>The lower court expressed very grave doubts on this question, but concluded that as there was nothing in the record to indicate the trust nature of the transaction, except the contract itself, and the fact that interest was paid, and the fact that the trust company felt perfectly free to use the money in any manner...</td>\n",
       "      <td>0.9884</td>\n",
       "    </tr>\n",
       "    <tr>\n",
       "      <th>665</th>\n",
       "      <td>Appellant's contention is that the Land Commissioner and Secretary of the Interior misapplied, mistook, and misconstrued the law applicable to the facts before them, in finding and concluding as a matter of law that the several conveyances set forth in appellant's bill conveyed to and vested in the appellee the Fed...</td>\n",
       "      <td>0.9883</td>\n",
       "    </tr>\n",
       "  </tbody>\n",
       "</table>\n",
       "</div>"
      ],
      "text/plain": [
       "                                                                                                                                                                                                                                                                                                                             sent_text  \\\n",
       "78922  The indictment in substance charged that the defendants and divers other persons to the grand jurors unknown, conspired to defraud the United States of and concerning its governmental function to be honestly, faithfully and dutifully represented in the Courts of the United States by an Assistant United States Attor...   \n",
       "85707  As subsidiary findings, the Board further found that resulting from an election held in July, 1934, the Petroleum Labor Policy Board certified the union as the collective bargaining agency; that soon thereafter a committee representing the union presented a proposed agreement to J. C. Thomas, superintendent of prod...   \n",
       "85767  As subsidiary findings, the Board found that following an election held in July, 1934, the Petroleum Labor Policy Board certified the union as the collective bargaining agency of the employees at the refinery; that shortly after such certification a representative of the union called upon Carl R. Tillman, superinte...   \n",
       "70597  To exercise, or to appoint proxies to exercise, any and all voting powers under any certificates or shares of stock in the trust estate; (b) to retain, or to sell, exchange, mortgage, or pledge any certificates, shares of stock, securities or other items of property or any fractional interest in any of the same now...   \n",
       "25925  It appears that the partnership, Russell & Co., Sucesores, S. en C., is composed of Horace Havemeyer, Frank A. Dillingham, Edward S. Paine, Edwin L. Arnold, Frank M. Welty, and H. B. Orde; that they are owners through purchase from Fortuna Estates of four tracts of land known as Haciendas Fortuna, Cristina, Luciana...   \n",
       "11921  It also charged conversion by the Trust Company of property of the Belt Company; also that the Trust Company occupied a fiduciary relation to the Belt Company, and by reason thereof had no right to charge any sums as profits; that the Trust Company in pursuance of a fraudulent plan sold worthless securities to the ...   \n",
       "3916   The main grounds for recovery thereof, as stated in the petition, are: \"That the assessment and collection of said additional income tax was erroneous and illegal in that it is based upon alleged income accruing to the plaintiff from the liquidating dividend upon the dissolution of the Osage Mercantile Company, a c...   \n",
       "2392   In Moore v. Crawford , supra , the Chief Justice, speaking for the court, said: \"Whenever the legal title to property is obtained through means or under circumstances 'which render it unconscientious for the holder of the legal title to retain and enjoy the beneficial interest, equity impresses a constructive trust...   \n",
       "47283  The lower court expressed very grave doubts on this question, but concluded that as there was nothing in the record to indicate the trust nature of the transaction, except the contract itself, and the fact that interest was paid, and the fact that the trust company felt perfectly free to use the money in any manner...   \n",
       "665    Appellant's contention is that the Land Commissioner and Secretary of the Interior misapplied, mistook, and misconstrued the law applicable to the facts before them, in finding and concluding as a matter of law that the several conveyances set forth in appellant's bill conveyed to and vested in the appellee the Fed...   \n",
       "\n",
       "        score  \n",
       "78922  0.9941  \n",
       "85707  0.9930  \n",
       "85767  0.9929  \n",
       "70597  0.9928  \n",
       "25925  0.9920  \n",
       "11921  0.9905  \n",
       "3916   0.9903  \n",
       "2392   0.9889  \n",
       "47283  0.9884  \n",
       "665    0.9883  "
      ]
     },
     "execution_count": 33,
     "metadata": {},
     "output_type": "execute_result"
    }
   ],
   "source": [
    "pd.set_option('display.max_colwidth', 320)\n",
    "sents_df[['sent_text','score']].nlargest(10, columns='score')"
   ]
  },
  {
   "cell_type": "markdown",
   "metadata": {},
   "source": [
    "Top 10 lowest sentiment sentences:"
   ]
  },
  {
   "cell_type": "code",
   "execution_count": 34,
   "metadata": {},
   "outputs": [
    {
     "data": {
      "text/html": [
       "<div>\n",
       "<style scoped>\n",
       "    .dataframe tbody tr th:only-of-type {\n",
       "        vertical-align: middle;\n",
       "    }\n",
       "\n",
       "    .dataframe tbody tr th {\n",
       "        vertical-align: top;\n",
       "    }\n",
       "\n",
       "    .dataframe thead th {\n",
       "        text-align: right;\n",
       "    }\n",
       "</style>\n",
       "<table border=\"1\" class=\"dataframe\">\n",
       "  <thead>\n",
       "    <tr style=\"text-align: right;\">\n",
       "      <th></th>\n",
       "      <th>sent_text</th>\n",
       "      <th>score</th>\n",
       "    </tr>\n",
       "  </thead>\n",
       "  <tbody>\n",
       "    <tr>\n",
       "      <th>19541</th>\n",
       "      <td>That within two or three days thereafter the appellants selected named persons to represent them and authorized such persons to investigate the fire and make estimates as to the value of the property destroyed and settle for the loss; that these adjusters for the insurers visited the scene of the fire and made exam...</td>\n",
       "      <td>-0.9914</td>\n",
       "    </tr>\n",
       "    <tr>\n",
       "      <th>40113</th>\n",
       "      <td>Where a safety appliance fails to perform a function which it is intended to perform, and where such failure directly causes injury to a trainman engaged in the performance of his duties, as in the Layton Case, the Gotschall Case, and the Davis Case, the failure of the railroad company to comply with the act is cle...</td>\n",
       "      <td>-0.9800</td>\n",
       "    </tr>\n",
       "    <tr>\n",
       "      <th>2268</th>\n",
       "      <td>The evidence in the case is not before us, but from instructions of the court to the jury, not excepted to, enough appears to indicate that there was no abuse of legal process in lodging a charge of conspiracy against the plaintiffs in error, and that there was evidence tending to show a conspiracy to introduce int...</td>\n",
       "      <td>-0.9796</td>\n",
       "    </tr>\n",
       "    <tr>\n",
       "      <th>26336</th>\n",
       "      <td>that is, a statute permitting the relatives to recover for injuries they suffer by reason of the death of a decedent, and that under such a statute the injury to them occurred at the time of death and not at the time of the accident, and that, as the death and consequent injury to them had occurred ashore, admiralt...</td>\n",
       "      <td>-0.9788</td>\n",
       "    </tr>\n",
       "    <tr>\n",
       "      <th>21012</th>\n",
       "      <td>In the second count he alleged deceased was conscious from the time he was injured until he died and on account of his injury suffered bodily pain and mental anguish from the time he was injured until he died, and prays damages in the sum of $3,000 therefor.\\n</td>\n",
       "      <td>-0.9783</td>\n",
       "    </tr>\n",
       "    <tr>\n",
       "      <th>90095</th>\n",
       "      <td>Fred Stevenson, a nonunion man, testified that Kemp told him that if he did not join the union, his job was not worth anything; that they would run him out of camp; that the statement was made a dozen times to him; that Kemp, Claude Johnson, Gumfory, Stewart, and Martin were present; that prior to the shut down and...</td>\n",
       "      <td>-0.9770</td>\n",
       "    </tr>\n",
       "    <tr>\n",
       "      <th>57991</th>\n",
       "      <td>The resulting rule is thus stated in 38 C.J.\\n1097: \"Insurer in general takes no risk with regard to the length or retardation of the voyage by the perils insured against, nor to its interruption, if it is resumed or capable of being resumed; as in the case of an embargo, or where the master is detained in port by ...</td>\n",
       "      <td>-0.9758</td>\n",
       "    </tr>\n",
       "    <tr>\n",
       "      <th>85349</th>\n",
       "      <td>(2) ; the sixth, seventh, eighth, ninth and tenth each charged a use of the mails in furtherance of the scheme or artifice to defraud, in violation of section 215 of the Criminal Code 3 ; and the eleventh charged the formation of a conspiracy to violate the provisions of the Securities Act and the mail fraud statut...</td>\n",
       "      <td>-0.9750</td>\n",
       "    </tr>\n",
       "    <tr>\n",
       "      <th>88384</th>\n",
       "      <td>The operators resisted these demands, but the accused forced their claims upon them in some instances by actual violence to their drivers and trucks; in some by threats of such violence; in others by persuading receiving clerks not to receive the loads.\\n</td>\n",
       "      <td>-0.9744</td>\n",
       "    </tr>\n",
       "    <tr>\n",
       "      <th>14283</th>\n",
       "      <td>The liability of an employer prescribed in section 4 shall be exclusive and in place of all other liability of such employer to the employee, his legal representative, husband or wife, parents, dependents, next of kin, and anyone otherwise entitled to recover damages from such employer at law or in admiralty on acc...</td>\n",
       "      <td>-0.9738</td>\n",
       "    </tr>\n",
       "  </tbody>\n",
       "</table>\n",
       "</div>"
      ],
      "text/plain": [
       "                                                                                                                                                                                                                                                                                                                             sent_text  \\\n",
       "19541  That within two or three days thereafter the appellants selected named persons to represent them and authorized such persons to investigate the fire and make estimates as to the value of the property destroyed and settle for the loss; that these adjusters for the insurers visited the scene of the fire and made exam...   \n",
       "40113  Where a safety appliance fails to perform a function which it is intended to perform, and where such failure directly causes injury to a trainman engaged in the performance of his duties, as in the Layton Case, the Gotschall Case, and the Davis Case, the failure of the railroad company to comply with the act is cle...   \n",
       "2268   The evidence in the case is not before us, but from instructions of the court to the jury, not excepted to, enough appears to indicate that there was no abuse of legal process in lodging a charge of conspiracy against the plaintiffs in error, and that there was evidence tending to show a conspiracy to introduce int...   \n",
       "26336  that is, a statute permitting the relatives to recover for injuries they suffer by reason of the death of a decedent, and that under such a statute the injury to them occurred at the time of death and not at the time of the accident, and that, as the death and consequent injury to them had occurred ashore, admiralt...   \n",
       "21012                                                             In the second count he alleged deceased was conscious from the time he was injured until he died and on account of his injury suffered bodily pain and mental anguish from the time he was injured until he died, and prays damages in the sum of $3,000 therefor.\\n   \n",
       "90095  Fred Stevenson, a nonunion man, testified that Kemp told him that if he did not join the union, his job was not worth anything; that they would run him out of camp; that the statement was made a dozen times to him; that Kemp, Claude Johnson, Gumfory, Stewart, and Martin were present; that prior to the shut down and...   \n",
       "57991  The resulting rule is thus stated in 38 C.J.\\n1097: \"Insurer in general takes no risk with regard to the length or retardation of the voyage by the perils insured against, nor to its interruption, if it is resumed or capable of being resumed; as in the case of an embargo, or where the master is detained in port by ...   \n",
       "85349  (2) ; the sixth, seventh, eighth, ninth and tenth each charged a use of the mails in furtherance of the scheme or artifice to defraud, in violation of section 215 of the Criminal Code 3 ; and the eleventh charged the formation of a conspiracy to violate the provisions of the Securities Act and the mail fraud statut...   \n",
       "88384                                                                  The operators resisted these demands, but the accused forced their claims upon them in some instances by actual violence to their drivers and trucks; in some by threats of such violence; in others by persuading receiving clerks not to receive the loads.\\n   \n",
       "14283  The liability of an employer prescribed in section 4 shall be exclusive and in place of all other liability of such employer to the employee, his legal representative, husband or wife, parents, dependents, next of kin, and anyone otherwise entitled to recover damages from such employer at law or in admiralty on acc...   \n",
       "\n",
       "        score  \n",
       "19541 -0.9914  \n",
       "40113 -0.9800  \n",
       "2268  -0.9796  \n",
       "26336 -0.9788  \n",
       "21012 -0.9783  \n",
       "90095 -0.9770  \n",
       "57991 -0.9758  \n",
       "85349 -0.9750  \n",
       "88384 -0.9744  \n",
       "14283 -0.9738  "
      ]
     },
     "execution_count": 34,
     "metadata": {},
     "output_type": "execute_result"
    }
   ],
   "source": [
    "sents_df[['sent_text','score']].nsmallest(10, columns='score')"
   ]
  },
  {
   "cell_type": "code",
   "execution_count": 35,
   "metadata": {},
   "outputs": [],
   "source": [
    "pd.set_option('display.max_colwidth', 80)"
   ]
  },
  {
   "cell_type": "markdown",
   "metadata": {},
   "source": [
    "### 8.  TfidfVectorization"
   ]
  },
  {
   "cell_type": "markdown",
   "metadata": {},
   "source": [
    "I only use 5000 sentences, to keep the amount of computation and memory low enough."
   ]
  },
  {
   "cell_type": "code",
   "execution_count": 36,
   "metadata": {},
   "outputs": [],
   "source": [
    "from sklearn.feature_extraction.text import TfidfVectorizer\n",
    "tfidf = TfidfVectorizer(min_df=0.001, # at min 0.1% of docs\n",
    "                        max_df=0.5,  # at most 50% of docs\n",
    "                        stop_words='english',\n",
    "                        max_features=1000,\n",
    "                        use_idf=True,)\n",
    "\n",
    "N=5000\n",
    "#only use 1000 sentences, otherwise the cosine similarity matrix gets too big\n",
    "X =  tfidf.fit_transform(sents_df['sent_text'][:N])\n"
   ]
  },
  {
   "cell_type": "code",
   "execution_count": 37,
   "metadata": {},
   "outputs": [
    {
     "data": {
      "text/plain": [
       "<5000x1000 sparse matrix of type '<class 'numpy.float64'>'\n",
       "\twith 35471 stored elements in Compressed Sparse Row format>"
      ]
     },
     "execution_count": 37,
     "metadata": {},
     "output_type": "execute_result"
    }
   ],
   "source": [
    "X"
   ]
  },
  {
   "cell_type": "markdown",
   "metadata": {},
   "source": [
    "Compute the cosine simularity"
   ]
  },
  {
   "cell_type": "code",
   "execution_count": 38,
   "metadata": {},
   "outputs": [],
   "source": [
    "from sklearn.metrics.pairwise import cosine_similarity\n",
    "sent_cosim = cosine_similarity(X, dense_output=False)"
   ]
  },
  {
   "cell_type": "code",
   "execution_count": 39,
   "metadata": {},
   "outputs": [
    {
     "data": {
      "text/plain": [
       "<5000x5000 sparse matrix of type '<class 'numpy.float64'>'\n",
       "\twith 2224226 stored elements in Compressed Sparse Row format>"
      ]
     },
     "execution_count": 39,
     "metadata": {},
     "output_type": "execute_result"
    }
   ],
   "source": [
    "sent_cosim"
   ]
  },
  {
   "cell_type": "code",
   "execution_count": 40,
   "metadata": {},
   "outputs": [
    {
     "name": "stderr",
     "output_type": "stream",
     "text": [
      "C:\\Users\\Marc\\Anaconda3\\lib\\site-packages\\scipy\\sparse\\compressed.py:746: SparseEfficiencyWarning: Changing the sparsity structure of a csr_matrix is expensive. lil_matrix is more efficient.\n",
      "  SparseEfficiencyWarning)\n"
     ]
    }
   ],
   "source": [
    "#mask the diagonal, so max doesn't return a pair of the same sentence\n",
    "sent_cosim.setdiag(0.5)"
   ]
  },
  {
   "cell_type": "code",
   "execution_count": 41,
   "metadata": {},
   "outputs": [],
   "source": [
    "#Get max indices\n",
    "smax_ind = np.argmax(sent_cosim)\n",
    "\n",
    "smin_ind = np.argmin(sent_cosim)\n",
    "\n",
    "x_max = smax_ind // N\n",
    "y_max = smax_ind % N\n",
    "\n",
    "x_min = smin_ind // N\n",
    "y_min = smin_ind % N"
   ]
  },
  {
   "cell_type": "markdown",
   "metadata": {},
   "source": [
    "Very similar sentences: "
   ]
  },
  {
   "cell_type": "code",
   "execution_count": 42,
   "metadata": {},
   "outputs": [
    {
     "name": "stdout",
     "output_type": "stream",
     "text": [
      "The nearest case is Troxell v. D., L. & W. R. R. Co. , 227 U. S. 434 , 33 S. Ct.\n",
      "Referring to the case of Norrington v. Wright , 115 U. S. 188 , 6 S. Ct.\n"
     ]
    }
   ],
   "source": [
    "print(sents_df['sent_text'][x_max]+'\\n'+sents_df['sent_text'][y_max])"
   ]
  },
  {
   "cell_type": "markdown",
   "metadata": {},
   "source": [
    "Very dissimalar sentences:"
   ]
  },
  {
   "cell_type": "code",
   "execution_count": 43,
   "metadata": {},
   "outputs": [
    {
     "name": "stdout",
     "output_type": "stream",
     "text": [
      " ROSE , Circuit Judge.\n",
      "\n",
      "This is another sugar case.\n"
     ]
    }
   ],
   "source": [
    "print(sents_df['sent_text'][x_min]+'\\n'+sents_df['sent_text'][y_min])"
   ]
  },
  {
   "cell_type": "markdown",
   "metadata": {},
   "source": [
    "### 9. K-means clustering"
   ]
  },
  {
   "cell_type": "code",
   "execution_count": 44,
   "metadata": {},
   "outputs": [],
   "source": [
    "from sklearn.cluster import KMeans\n",
    "n_clusters = 20\n",
    "kmeans = KMeans(n_clusters=n_clusters, random_state=0).fit(X)\n",
    "\n",
    "labels = list(kmeans.labels_)"
   ]
  },
  {
   "cell_type": "markdown",
   "metadata": {},
   "source": [
    "List 5 example sentences from each cluster. "
   ]
  },
  {
   "cell_type": "code",
   "execution_count": 45,
   "metadata": {},
   "outputs": [
    {
     "name": "stdout",
     "output_type": "stream",
     "text": [
      "Sentences in cluster 1: \n",
      "\n",
      "Index: 1, Sentence: This is another sugar case. \n",
      "Index: 2, Sentence: Those concerned in the transactions out of which it arose will be referred to as the seller, the buyer, and the bank.\n",
      " \n",
      "Index: 3, Sentence: Only the first and last of these are parties to this litigation.\n",
      " \n",
      "Index: 4, Sentence: The seller was plaintiff below and is defendant in error here.\n",
      " \n",
      "Index: 5, Sentence: It is a partnership trading as Lamborn & Co., and is composed of nearly a dozen persons, every one of whom is a citizen of some other state than Virginia.\n",
      " \n",
      "\n",
      "\n",
      "Sentences in cluster 2: \n",
      "\n",
      "Index: 210, Sentence: v. Moffat Tunnel Improvement District , 262 U. S. 710 , 43 S. Ct. \n",
      "Index: 269, Sentence: 187 , 43 L. Ed. \n",
      "Index: 440, Sentence: That principle was again stated in the recent case of Adkins v. Children's Hospital , 261 U. S. 525, 544 , 43 S. Ct. \n",
      "Index: 692, Sentence: , 43 L. Ed. \n",
      "Index: 965, Sentence: Brownlow v. Schwartz , 261 U. S. 216 , 43 S. Ct. \n",
      "\n",
      "\n",
      "Sentences in cluster 3: \n",
      "\n",
      "Index: 1286, Sentence: Holden v. Gilbert, 7 Paige, 208; Pate v. Gray, Fed. \n",
      "Index: 1473, Sentence: 204 ; Davis v. Gray , 16 Wall. \n",
      "Index: 1929, Sentence: The officers found in a closet in the front room 16 pint bottles of champagne and a gray ledger, which they also seized.\n",
      " \n",
      "Index: 1930, Sentence: The evidence showed that from page 34 on the great bulk of the writing in this ledger was that of the defendant Marron.\n",
      " \n",
      "Index: 1931, Sentence: The ledger purported to be a record of the business carried on at 1249 Polk street.\n",
      " \n",
      "\n",
      "\n",
      "Sentences in cluster 4: \n",
      "\n",
      "Index: 76, Sentence: 19 , 29 L. Ed. \n",
      "Index: 96, Sentence: 12 , 29 L. Ed. \n",
      "Index: 695, Sentence: 782 , 29 L. Ed. \n",
      "Index: 844, Sentence: Palmer v. Texas , 212 U. S. 118, 132 , 29 S. Ct. \n",
      "Index: 929, Sentence: In re Bolster , 59 Wash. 655 , 110 P. 547 , 29 L. R. A. (N. S.) \n",
      "\n",
      "\n",
      "Sentences in cluster 5: \n",
      "\n",
      "Index: 859, Sentence: 1923, 5841c21) expressly provides that no proclamation shall be issued by the President changing the classification or increasing or decreasing duties until after an investigation of the differences in cost of production has been made by the United States Tariff Commission.\n",
      " \n",
      "Index: 860, Sentence: That subdivision makes it the duty of the commission to give public notice of its hearings and to afford to parties interested a reasonable opportunity to be present, to produce evidence and to be heard .\n",
      " \n",
      "Index: 861, Sentence: The rules, which the commission is authorized to adopt, prescribe that parties who enter an appearance in the investigations provided for by section 315 shall have the opportunity to examine the report of the commissioner or investigator in charge of the investigation and also the record , with the exception of such portions of the report or record as relate to trade secrets or processes which section 708 of the act of 1916 (Comp. \n",
      "Index: 863, Sentence: On the 24th of October, 1922, the American Nitrogen Products Company, a corporation organized under the laws of the state of Washington, filed with the United States Tariff Commission a petition and brief, praying that the duty of three cents a pound imposed on sodium nitrite by the Tariff Act of 1922 be increased to 4 cents per pound.\n",
      " \n",
      "Index: 864, Sentence: On the 20th of July, 1923, notice was given by the commission that a public hearing would be held at its office at 10 o'clock a. m., on the 10th of September, 1923, concerning the subject-matter of the petition, and that at that time and place the parties interested would be given an opportunity to be present, to produce evidence, and to be heard as to differences in cost of production, and as to all other facts and conditions pertinent to the matters which were then to be the subject of investigation.\n",
      " \n",
      "\n",
      "\n",
      "Sentences in cluster 6: \n",
      "\n",
      "Index: 616, Sentence: Reversed, on authority of In re West Coast Rubber Corporation (C. C. A.) \n",
      "Index: 737, Sentence: Capitol Motor Corporation v. Lasker , 138 Va. \n",
      "Index: 740, Sentence: The fact that in Capitol Motor Corporation v. Lasker , 138 Va. \n",
      "Index: 755, Sentence: The appellee Portneuf-Marsh Valley Irrigation Company, a corporation, was the construction company, and the appellee Portneuf-Marsh Valley Canal Company, a corporation, was the operating company, organized by the construction company, with a capital stock of 20,000 shares, to which the whole irrigation system was added, with certain stipulations agreed to by both parties thereto.\n",
      " \n",
      "Index: 764, Sentence: All persons, who prior to the formation of such corporation have purchased or acquired water rights of water from said second party for the irrigation of lands embraced in this contract and being then the owners of such rights or shares, shall be entitled to receive and have issued to them, shares in such corporation so to be formed, equal in number to the water rights or shares of water then owned and held by such persons, and the remainder of the capital stock of such corporation shall be issued to the party of the second part in consideration of the covenants and agreements herein contained in order to enable it to deliver to purchasers of water rights the shares of stock representing the same.\n",
      " \n",
      "\n",
      "\n",
      "Sentences in cluster 7: \n",
      "\n",
      "Index: 2854, Sentence: The question which is here relates to wharfage.\n",
      " \n",
      "Index: 3011, Sentence: But whether wharfage is a \"necessary\" within the meaning of the act of 1920 has not been decided by the Supreme Court or by this court.\n",
      " \n",
      "Index: 3016, Sentence: The question whether wharfage is a \"necessary\" within the meaning of the act of 1920 was not argued when this case was heard.\n",
      " \n",
      "\n",
      "\n",
      "Sentences in cluster 8: \n",
      "\n",
      "Index: 220, Sentence: For the reasons stated, the decision of the trial court will be and is affirmed.\n",
      " \n",
      "Index: 304, Sentence: The judgment is affirmed.\n",
      " \n",
      "Index: 379, Sentence: The decree of the District Court is affirmed, with costs to the appellee.\n",
      " \n",
      "Index: 523, Sentence: In enacting this legislation Congress has affirmed its validity.\n",
      " \n",
      "Index: 594, Sentence: Order affirmed, with costs.\n",
      " \n",
      "\n",
      "\n",
      "Sentences in cluster 9: \n",
      "\n",
      "Index: 183, Sentence: No. 6 , 256 U. S. 658, at page 660 ( 41 S. Ct. \n",
      "Index: 211, Sentence: 694 , 67 L. Ed. \n",
      "Index: 238, Sentence: 41 L. Ed. \n",
      "Index: 426, Sentence: Street v. Lincoln Safe Deposit Co. , 254 U. S. 88 , 41 S. Ct. \n",
      "Index: 441, Sentence: 394 , 67 L. Ed. \n",
      "\n",
      "\n",
      "Sentences in cluster 10: \n",
      "\n",
      "Index: 59, Sentence: In most of them the question principally discussed was whether the seller had the right under the contract to declare the West Cheswald as and when it did.\n",
      " \n",
      "Index: 63, Sentence: The right of the seller to declare the West Cheswald when and as it did was sustained by every one of the courts which felt called to pass upon that question.\n",
      " \n",
      "Index: 92, Sentence: That point of view is in substance the same as that which has commended itself to the courts which have heretofore passed upon the precise question now before us.\n",
      " \n",
      "Index: 124, Sentence: , Lord Chancellor Cairns said: \"It does not appear to me to be a question for your lordships or for any court to consider whether this is a contract which bears upon the face of it some reason, some explanation why it was made in that form, and why the stipulation is made that the shipment should be during these particular months.\n",
      " \n",
      "Index: 149, Sentence: Now it is true, as it is pointed out by the learned counsel for the seller, that the contract here is not a c. i. f. contract, but it is one under which the buyer had an insurable interest, and is therefore one which, so far as this question is concerned, is governed by the same principle.\n",
      " \n",
      "\n",
      "\n",
      "Sentences in cluster 11: \n",
      "\n",
      "Index: 129, Sentence: In the same case that eminent authority on the law of sale, Lord Blackburn, said: \"If the description of the article tendered is different in any respect, it is not the article bargained for, and the other party is not bound to take it.\n",
      " \n",
      "Index: 138, Sentence: Few men have been more deeply learned in mercantile law than Mr. Justice Scrutton.\n",
      " \n",
      "Index: 153, Sentence: As, for example, in The Manhattan , 284 F. 310 , we accepted as settled law that a purchaser of grain to be shipped by one ship could not be required to take it if it came in another, and that we could not inquire whether every possible purpose of the buyer would not be as well served by that which was brought in the substitute.\n"
     ]
    },
    {
     "name": "stdout",
     "output_type": "stream",
     "text": [
      " \n",
      "Index: 190, Sentence: \"Obviously, the railroad companies have not been treated like individual owners, and we think the discrimination so palpable and arbitrary as to amount to a denial of the equal protection of the law.\n",
      " \n",
      "Index: 197, Sentence: Equal protection of the law must be extended to all.\"\n",
      " \n",
      "\n",
      "\n",
      "Sentences in cluster 12: \n",
      "\n",
      "Index: 928, Sentence: The term \"trade secrets,\" as ordinarily understood, means an unpatented, secret, commercially valuable plan, appliance, formula, or process, which is used for the making, preparing, compounding, treating, or processing of articles or materials which are trade commodities.\n",
      " \n",
      "Index: 937, Sentence: Business privacy will be protected, it is true, from mere fishing expeditions in search of evidence ( Federal Trade Commission v. American Tobacco Co. , 264 U. S. 298, 305-306 , 44 S. Ct. \n",
      "Index: 1042, Sentence: This is an original proceeding brought in this court by the Federal Trade Commission, hereafter referred to as \"the Commission,\" under the provisions of the Federal Trade Commission Act, 38 Stat. \n",
      "Index: 1045, Sentence: St. 8836a-8836k), to compel the enforcement of an order issued by the Commission against the respondent, Alfred Klesner, requiring him to cease and desist from using the word \"Shade Shop,\" standing alone or in conjunction with other words, as an identification of the business conducted by him, and forbidding its use on advertisements, signs, stationery, telephone and business directories, trade lists, or otherwise, in connection with the conduct of his business in the District of Columbia.\n",
      " \n",
      "Index: 1069, Sentence: While the Federal Trade Commission is undoubtedly given jurisdiction, by the terms of the act, over cases arising in the District of Columbia, Congress, through an apparent oversight, has failed to provide a court within the District in which the Commission can enforce its orders.\n",
      " \n",
      "\n",
      "\n",
      "Sentences in cluster 13: \n",
      "\n",
      "Index: 55, Sentence: 301 , 199 N. Y. S. 314 , reversed by the Appellate Division of the Supreme Court of New York for the First Department in June of this year, in an opinion which we have seen ( 210 App. \n",
      "Index: 70, Sentence: The Supreme Court of Pennsylvania in Wilbur v. Lamborn was almost as brief: \"Some point is made of the fact that the West Cheswald was originally bound for New York and diverted to Philadelphia.\n",
      " \n",
      "Index: 77, Sentence: 372 , was cited by counsel but is not referred to by the court.\n",
      " \n",
      "Index: 83, Sentence: I was very much interested in the Supreme Court case, and of course, if it is parallel with this, I shall have to follow it and be bound by it; but I do see a difference in a shipment from Leith and a shipment from Glasgow.\n",
      " \n",
      "Index: 85, Sentence: The Supreme Court case referred to in the above quotation was, of course, Filley v. Pope , supra .\n",
      " \n",
      "\n",
      "\n",
      "Sentences in cluster 14: \n",
      "\n",
      "Index: 361, Sentence: Under R. S. 4916 (Comp. \n",
      "Index: 384, Sentence: 305 , c. 85 [Comp. \n",
      "Index: 672, Sentence: Comp. \n",
      "Index: 748, Sentence: 372 , 422), and amendments thereto (Comp. \n",
      "Index: 810, Sentence: The government relies on Rev. St. 3846 (Comp. \n",
      "\n",
      "\n",
      "Sentences in cluster 15: \n",
      "\n",
      "Index: 75, Sentence: From the report of the case it appears that Filley v. Pope , 115 U. S. 213 , 6 S. Ct. \n",
      "Index: 95, Sentence: Referring to the case of Norrington v. Wright , 115 U. S. 188 , 6 S. Ct. \n",
      "Index: 206, Sentence: Branson v. Bush , 251 U. S. 182 , 40 S. Ct. \n",
      "Index: 236, Sentence: Tregea v. Modesto Irrigation District , 164 U. S. 179 , 17 S. Ct. \n",
      "Index: 239, Sentence: 395 ; Muskrat v. United States , 219 U. S. 346 , 31 S. Ct. \n",
      "\n",
      "\n",
      "Sentences in cluster 16: \n",
      "\n",
      "Index: 385, Sentence: St. Ann. \n",
      "Index: 407, Sentence: St. Ann. \n",
      "Index: 416, Sentence: St. Ann. \n",
      "Index: 480, Sentence: 326 , L. R. A. 1917B, 1218, Ann. \n",
      "Index: 552, Sentence: 643 , 3 Ann. \n",
      "\n",
      "\n",
      "Sentences in cluster 17: \n",
      "\n",
      "Index: 0, Sentence:  ROSE , Circuit Judge.\n",
      " \n",
      "Index: 305, Sentence:  JOHNSON , Circuit Judge.\n",
      " \n",
      "Index: 380, Sentence:  ROGERS , Circuit Judge.\n",
      " \n",
      "Index: 700, Sentence:  ROSE , Circuit Judge.\n",
      " \n",
      "Index: 745, Sentence:  ROSS , Circuit Judge.\n",
      " \n",
      "\n",
      "\n",
      "Sentences in cluster 18: \n",
      "\n",
      "Index: 185, Sentence: , 65 L. Ed. \n",
      "Index: 208, Sentence: 64 L. Ed. \n",
      "Index: 241, Sentence: , 55 L. Ed. \n",
      "Index: 256, Sentence: , 60 L. Ed. \n",
      "Index: 259, Sentence: , 60 L. Ed. \n",
      "\n",
      "\n",
      "Sentences in cluster 19: \n",
      "\n",
      "Index: 2438, Sentence: The act further provides that the Commission may apply to the Circuit Court of Appeals to enforce the order to \"cease and desist.\"\n",
      " \n",
      "Index: 2439, Sentence: It also gives to any party required by such an order to \"cease and desist\" the right to apply to the Circuit Court of Appeals to review the order.\n",
      " \n",
      "\n",
      "\n",
      "Sentences in cluster 20: \n",
      "\n",
      "\n",
      "\n"
     ]
    }
   ],
   "source": [
    "for i in range(1,n_clusters+1):\n",
    "    print(\"Sentences in cluster {}: \\n\".format(i))\n",
    "    for j in range(5):\n",
    "        if i in labels:\n",
    "            index = labels.index(i)\n",
    "            labels.remove(i)\n",
    "            #replace\n",
    "            labels.insert(index,0)\n",
    "            print(\"Index: {}, Sentence: {} \".format(index, sents_df['sent_text'][index]))\n",
    "        else: break\n",
    "    print(\"\\n\")\n",
    "        "
   ]
  },
  {
   "cell_type": "code",
   "execution_count": null,
   "metadata": {},
   "outputs": [],
   "source": []
  }
 ],
 "metadata": {
  "kernelspec": {
   "display_name": "Python 3",
   "language": "python",
   "name": "python3"
  },
  "language_info": {
   "codemirror_mode": {
    "name": "ipython",
    "version": 3
   },
   "file_extension": ".py",
   "mimetype": "text/x-python",
   "name": "python",
   "nbconvert_exporter": "python",
   "pygments_lexer": "ipython3",
   "version": "3.7.1"
  }
 },
 "nbformat": 4,
 "nbformat_minor": 2
}
